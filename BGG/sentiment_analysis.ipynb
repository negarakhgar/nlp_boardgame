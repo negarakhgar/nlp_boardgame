{
 "cells": [
  {
   "cell_type": "code",
   "execution_count": 1,
   "metadata": {},
   "outputs": [],
   "source": [
    "import pandas as pd\n",
    "import torch\n",
    "from transformers import AlbertTokenizer, AlbertForSequenceClassification"
   ]
  },
  {
   "cell_type": "code",
   "execution_count": 2,
   "metadata": {},
   "outputs": [],
   "source": [
    "# the English comments dataset\n",
    "file_path = '/Users/negarakhgar/Desktop/nlp project/data/english_boardgames_comments.csv'\n",
    "english_comments_df = pd.read_csv(file_path)"
   ]
  },
  {
   "cell_type": "code",
   "execution_count": 3,
   "metadata": {},
   "outputs": [],
   "source": [
    "model_1 = AlbertForSequenceClassification.from_pretrained('/Users/negarakhgar/Desktop/nlp project/model')\n",
    "tokenizer_1 = AlbertTokenizer.from_pretrained('/Users/negarakhgar/Desktop/nlp project/model')"
   ]
  },
  {
   "cell_type": "code",
   "execution_count": 4,
   "metadata": {},
   "outputs": [
    {
     "data": {
      "text/plain": [
       "AlbertForSequenceClassification(\n",
       "  (albert): AlbertModel(\n",
       "    (embeddings): AlbertEmbeddings(\n",
       "      (word_embeddings): Embedding(30000, 128, padding_idx=0)\n",
       "      (position_embeddings): Embedding(512, 128)\n",
       "      (token_type_embeddings): Embedding(2, 128)\n",
       "      (LayerNorm): LayerNorm((128,), eps=1e-12, elementwise_affine=True)\n",
       "      (dropout): Dropout(p=0, inplace=False)\n",
       "    )\n",
       "    (encoder): AlbertTransformer(\n",
       "      (embedding_hidden_mapping_in): Linear(in_features=128, out_features=768, bias=True)\n",
       "      (albert_layer_groups): ModuleList(\n",
       "        (0): AlbertLayerGroup(\n",
       "          (albert_layers): ModuleList(\n",
       "            (0): AlbertLayer(\n",
       "              (full_layer_layer_norm): LayerNorm((768,), eps=1e-12, elementwise_affine=True)\n",
       "              (attention): AlbertSdpaAttention(\n",
       "                (query): Linear(in_features=768, out_features=768, bias=True)\n",
       "                (key): Linear(in_features=768, out_features=768, bias=True)\n",
       "                (value): Linear(in_features=768, out_features=768, bias=True)\n",
       "                (attention_dropout): Dropout(p=0, inplace=False)\n",
       "                (output_dropout): Dropout(p=0, inplace=False)\n",
       "                (dense): Linear(in_features=768, out_features=768, bias=True)\n",
       "                (LayerNorm): LayerNorm((768,), eps=1e-12, elementwise_affine=True)\n",
       "              )\n",
       "              (ffn): Linear(in_features=768, out_features=3072, bias=True)\n",
       "              (ffn_output): Linear(in_features=3072, out_features=768, bias=True)\n",
       "              (activation): NewGELUActivation()\n",
       "              (dropout): Dropout(p=0, inplace=False)\n",
       "            )\n",
       "          )\n",
       "        )\n",
       "      )\n",
       "    )\n",
       "    (pooler): Linear(in_features=768, out_features=768, bias=True)\n",
       "    (pooler_activation): Tanh()\n",
       "  )\n",
       "  (dropout): Dropout(p=0.1, inplace=False)\n",
       "  (classifier): Linear(in_features=768, out_features=2, bias=True)\n",
       ")"
      ]
     },
     "execution_count": 4,
     "metadata": {},
     "output_type": "execute_result"
    }
   ],
   "source": [
    "model_1.eval()"
   ]
  },
  {
   "cell_type": "code",
   "execution_count": 5,
   "metadata": {},
   "outputs": [],
   "source": [
    "# The sentiment analysis function\n",
    "def analyze_sentiment_model_1(text):\n",
    "    inputs = tokenizer_1(text, padding=True, truncation=True, max_length=512, return_tensors='pt')\n",
    "    \n",
    "    device = torch.device('cuda' if torch.cuda.is_available() else 'cpu')\n",
    "    model_1.to(device)\n",
    "    inputs = {key: val.to(device) for key, val in inputs.items()}\n",
    "    \n",
    "    with torch.no_grad():\n",
    "        outputs = model_1(**inputs)\n",
    "        logits = outputs.logits\n",
    "        predicted_class = torch.argmax(logits, dim=1).item()\n",
    "        score = torch.softmax(logits, dim=1).max().item()\n",
    "\n",
    "        # Defining sentiment labels\n",
    "    labels = {0: 'negative', 1: 'positive'}\n",
    "    \n",
    "    return labels[predicted_class], score"
   ]
  },
  {
   "cell_type": "code",
   "execution_count": 6,
   "metadata": {},
   "outputs": [],
   "source": [
    "# Applying sentiment analysis using Model 1\n",
    "english_comments_df[['sentiment_model_1', 'score_model_1']] = english_comments_df['value'].apply(lambda x: pd.Series(analyze_sentiment_model_1(x)))"
   ]
  },
  {
   "cell_type": "code",
   "execution_count": 7,
   "metadata": {},
   "outputs": [
    {
     "name": "stdout",
     "output_type": "stream",
     "text": [
      "Sentiment analysis using Model 1 completed and results saved to /Users/negarakhgar/Desktop/nlp project/boardgames_sentiment_analysis_model_1.csv\n"
     ]
    }
   ],
   "source": [
    "# Saving the results for Model 1\n",
    "sentiment_analysis_model_1_file = '/Users/negarakhgar/Desktop/nlp project/boardgames_sentiment_analysis_model_1.csv'\n",
    "english_comments_df.to_csv(sentiment_analysis_model_1_file, index=False)\n",
    "\n",
    "print(f\"Sentiment analysis using Model 1 completed and results saved to {sentiment_analysis_model_1_file}\")"
   ]
  },
  {
   "cell_type": "code",
   "execution_count": 8,
   "metadata": {},
   "outputs": [
    {
     "name": "stdout",
     "output_type": "stream",
     "text": [
      "\n",
      "Sample of the results:\n",
      "   boardgame_id                                              value  \\\n",
      "0        224517  SLEEVED[IMG]https://cf.geekdo-static.com/mbs/m...   \n",
      "1        224517  Great game, full controllo of your strategy th...   \n",
      "2        224517                                      Location: MSK   \n",
      "3        224517  Very clever game, enjoyable overall.  Plus poi...   \n",
      "4        224517  Brilliant!  Fits right into my wheelhouse all ...   \n",
      "5        224517  Absolutely brilliant!  I never played the orig...   \n",
      "6        224517  I prefer old school Brass or AoI. I do like th...   \n",
      "7        224517  The game itself is not interesting enough to l...   \n",
      "8        224517                               \"You can't do that.\"   \n",
      "9        224517  This is a near-perfect board game because...  ...   \n",
      "\n",
      "  sentiment_model_1  score_model_1  \n",
      "0          positive       0.974834  \n",
      "1          positive       0.998138  \n",
      "2          negative       0.745414  \n",
      "3          positive       0.996099  \n",
      "4          positive       0.995724  \n",
      "5          positive       0.997682  \n",
      "6          negative       0.989379  \n",
      "7          negative       0.999007  \n",
      "8          negative       0.982827  \n",
      "9          positive       0.998641  \n"
     ]
    }
   ],
   "source": [
    "print(\"\\nSample of the results:\")\n",
    "print(english_comments_df[['boardgame_id', 'value', 'sentiment_model_1', 'score_model_1']].head(10))"
   ]
  }
 ],
 "metadata": {
  "kernelspec": {
   "display_name": "Python 3",
   "language": "python",
   "name": "python3"
  },
  "language_info": {
   "codemirror_mode": {
    "name": "ipython",
    "version": 3
   },
   "file_extension": ".py",
   "mimetype": "text/x-python",
   "name": "python",
   "nbconvert_exporter": "python",
   "pygments_lexer": "ipython3",
   "version": "3.12.0"
  }
 },
 "nbformat": 4,
 "nbformat_minor": 2
}
